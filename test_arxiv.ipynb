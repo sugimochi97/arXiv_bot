{
 "cells": [
  {
   "cell_type": "markdown",
   "metadata": {},
   "source": [
    "# arXiv　APIを叩いてみる\n",
    "- 参考 https://note.nkmk.me/python-arxiv-api-download-rss/ \n",
    "    - 記事で扱っているversionが古い\n",
    "- 参考 https://pypi.org/project/arxiv/ \n",
    "    - pypiのサイトにExampleが載っているた"
   ]
  },
  {
   "cell_type": "code",
   "execution_count": 1,
   "metadata": {},
   "outputs": [],
   "source": [
    "import pprint\n",
    "import arxiv\n",
    "import pandas as pd"
   ]
  },
  {
   "cell_type": "code",
   "execution_count": 6,
   "metadata": {},
   "outputs": [
    {
     "name": "stdout",
     "output_type": "stream",
     "text": [
      "Revisiting VerilogEval: Newer LLMs, In-Context Learning, and Specification-to-RTL Tasks\n",
      "FLAME: Learning to Navigate with Multimodal LLM in Urban Environments\n",
      "MagicDec: Breaking the Latency-Throughput Tradeoff for Long Context Generation with Speculative Decoding\n",
      "Reconciling Methodological Paradigms: Employing Large Language Models as Novice Qualitative Research Assistants in Talent Management Research\n",
      "Athena: Safe Autonomous Agents with Verbal Contrastive Learning\n",
      "While GitHub Copilot Excels at Coding, Does It Ensure Responsible Output?\n",
      "CTP-LLM: Clinical Trial Phase Transition Prediction Using Large Language Models\n",
      "Dr.Academy: A Benchmark for Evaluating Questioning Capability in Education for Large Language Models\n",
      "Large Language Model Driven Recommendation\n",
      "HiRED: Attention-Guided Token Dropping for Efficient Inference of High-Resolution Vision-Language Models in Resource-Constrained Environments\n",
      "['Revisiting VerilogEval: Newer LLMs, In-Context Learning, and Specification-to-RTL Tasks', 'FLAME: Learning to Navigate with Multimodal LLM in Urban Environments', 'MagicDec: Breaking the Latency-Throughput Tradeoff for Long Context Generation with Speculative Decoding', 'Reconciling Methodological Paradigms: Employing Large Language Models as Novice Qualitative Research Assistants in Talent Management Research', 'Athena: Safe Autonomous Agents with Verbal Contrastive Learning', 'While GitHub Copilot Excels at Coding, Does It Ensure Responsible Output?', 'CTP-LLM: Clinical Trial Phase Transition Prediction Using Large Language Models', 'Dr.Academy: A Benchmark for Evaluating Questioning Capability in Education for Large Language Models', 'Large Language Model Driven Recommendation', 'HiRED: Attention-Guided Token Dropping for Efficient Inference of High-Resolution Vision-Language Models in Resource-Constrained Environments']\n",
      "http://arxiv.org/abs/cond-mat/0603029v1\n",
      "Heat-bath random walks with Markov bases\n"
     ]
    }
   ],
   "source": [
    "# Construct the default API client.\n",
    "client = arxiv.Client()\n",
    "\n",
    "# Search for the 10 most recent articles matching the keyword \"quantum.\"\n",
    "search = arxiv.Search(\n",
    "  query = \"quantum.\",\n",
    "  max_results = 10,\n",
    "  sort_by = arxiv.SortCriterion.SubmittedDate\n",
    ")\n",
    "\n",
    "results = client.results(search)\n",
    "\n",
    "# `results` オブジェクトはジェネレーターです。一つずつ要素を反復処理できます。\n",
    "for r in client.results(search):\n",
    "    print(r.title)\n",
    "\n",
    "# ジェネレータをリストに変換することで、全ての結果を取得できます。\n",
    "all_results = list(results)\n",
    "print([r.title for r in all_results])\n",
    "\n",
    "# arXivAPIのqueryの詳細については以下を参照\n",
    "# https://arxiv.org/help/api/user-manual#query_details\n",
    "search = arxiv.Search(query = \"au:del_maestro AND ti:checkerboard\")\n",
    "first_result = next(client.results(search))\n",
    "print(first_result)\n",
    "\n",
    "# Search for the paper with ID \"1605.08386v1\"\n",
    "# IDを指定して論文を検索する\n",
    "search_by_id = arxiv.Search(id_list=[\"1605.08386v1\"])\n",
    "# クライアントを再利用して論文を取得し、そのタイトルを表示します。\n",
    "first_result = next(client.results(search_by_id))\n",
    "print(first_result.title)"
   ]
  },
  {
   "cell_type": "code",
   "execution_count": null,
   "metadata": {},
   "outputs": [],
   "source": []
  }
 ],
 "metadata": {
  "kernelspec": {
   "display_name": "env_arxiv_bot",
   "language": "python",
   "name": "python3"
  },
  "language_info": {
   "codemirror_mode": {
    "name": "ipython",
    "version": 3
   },
   "file_extension": ".py",
   "mimetype": "text/x-python",
   "name": "python",
   "nbconvert_exporter": "python",
   "pygments_lexer": "ipython3",
   "version": "3.12.4"
  }
 },
 "nbformat": 4,
 "nbformat_minor": 2
}
